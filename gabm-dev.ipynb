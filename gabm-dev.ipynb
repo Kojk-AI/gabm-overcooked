{
 "cells": [
  {
   "cell_type": "code",
   "execution_count": 1,
   "metadata": {},
   "outputs": [],
   "source": [
    "import overcooked"
   ]
  },
  {
   "cell_type": "code",
   "execution_count": 2,
   "metadata": {},
   "outputs": [
    {
     "name": "stdout",
     "output_type": "stream",
     "text": [
      "<overcooked_ai_py.mdp.overcooked_mdp.OvercookedGridworld object at 0x7f368c4cb6d0>\n"
     ]
    }
   ],
   "source": [
    "overcooked_env = overcooked.Overcooked(\"CrampedRoom\")"
   ]
  },
  {
   "cell_type": "code",
   "execution_count": 15,
   "metadata": {},
   "outputs": [],
   "source": [
    "observation, episode_return, episode_length = overcooked_env.reset(), 0, 0\n",
    "observation = overcooked_env.mdp.lossless_state_encoding(observation, debug=False)[0]"
   ]
  },
  {
   "cell_type": "code",
   "execution_count": 3,
   "metadata": {},
   "outputs": [],
   "source": [
    "NORTH = (0, -1)\n",
    "SOUTH = (0, 1)\n",
    "EAST = (1, 0)\n",
    "WEST = (-1, 0)\n",
    "ALL_DIRECTIONS = INDEX_TO_DIRECTION = [NORTH, SOUTH, EAST, WEST]\n",
    "DIRECTION_TO_INDEX = {a: i for i, a in enumerate(INDEX_TO_DIRECTION)}\n",
    "OPPOSITE_DIRECTIONS = {NORTH: SOUTH, SOUTH: NORTH, EAST: WEST, WEST: EAST}\n",
    "DIRECTION_TO_NAME = {\n",
    "    d: name\n",
    "    for d, name in zip(\n",
    "        [NORTH, SOUTH, EAST, WEST], [\"NORTH\", \"SOUTH\", \"EAST\", \"WEST\"]\n",
    "    )\n",
    "}"
   ]
  },
  {
   "cell_type": "code",
   "execution_count": 4,
   "metadata": {},
   "outputs": [],
   "source": [
    "import copy\n",
    "import itertools\n",
    "\n",
    "class Direction(object):\n",
    "    \"\"\"\n",
    "    The four possible directions a player can be facing.\n",
    "    \"\"\"\n",
    "\n",
    "    NORTH = (0, -1)\n",
    "    SOUTH = (0, 1)\n",
    "    EAST = (1, 0)\n",
    "    WEST = (-1, 0)\n",
    "    ALL_DIRECTIONS = INDEX_TO_DIRECTION = [NORTH, SOUTH, EAST, WEST]\n",
    "    DIRECTION_TO_INDEX = {a: i for i, a in enumerate(INDEX_TO_DIRECTION)}\n",
    "    OPPOSITE_DIRECTIONS = {NORTH: SOUTH, SOUTH: NORTH, EAST: WEST, WEST: EAST}\n",
    "    DIRECTION_TO_NAME = {\n",
    "        d: name\n",
    "        for d, name in zip(\n",
    "            [NORTH, SOUTH, EAST, WEST], [\"NORTH\", \"SOUTH\", \"EAST\", \"WEST\"]\n",
    "        )\n",
    "    }\n",
    "\n",
    "    @staticmethod\n",
    "    def get_adjacent_directions(direction):\n",
    "        \"\"\"Returns the directions within 90 degrees of the given direction.\n",
    "\n",
    "        direction: One of the Directions, except not Direction.STAY.\n",
    "        \"\"\"\n",
    "        if direction in [Direction.NORTH, Direction.SOUTH]:\n",
    "            return [Direction.EAST, Direction.WEST]\n",
    "        elif direction in [Direction.EAST, Direction.WEST]:\n",
    "            return [Direction.NORTH, Direction.SOUTH]\n",
    "        raise ValueError(\"Invalid direction: %s\" % direction)\n",
    "\n",
    "\n",
    "class Action(object):\n",
    "    \"\"\"\n",
    "    The six actions available in the OvercookedGridworld.\n",
    "\n",
    "    Includes definitions of the actions as well as utility functions for\n",
    "    manipulating them or applying them.\n",
    "    \"\"\"\n",
    "\n",
    "    STAY = (0, 0)\n",
    "    INTERACT = \"interact\"\n",
    "    ALL_ACTIONS = INDEX_TO_ACTION = Direction.INDEX_TO_DIRECTION + [\n",
    "        STAY,\n",
    "        INTERACT,\n",
    "    ]\n",
    "    INDEX_TO_ACTION_INDEX_PAIRS = [\n",
    "        v for v in itertools.product(range(len(INDEX_TO_ACTION)), repeat=2)\n",
    "    ]\n",
    "    ACTION_TO_INDEX = {a: i for i, a in enumerate(INDEX_TO_ACTION)}\n",
    "    MOTION_ACTIONS = Direction.ALL_DIRECTIONS + [STAY]\n",
    "    ACTION_TO_CHAR = {\n",
    "        Direction.NORTH: \"↑\",\n",
    "        Direction.SOUTH: \"↓\",\n",
    "        Direction.EAST: \"→\",\n",
    "        Direction.WEST: \"←\",\n",
    "        STAY: \"stay\",\n",
    "        INTERACT: INTERACT,\n",
    "    }\n",
    "    NUM_ACTIONS = len(ALL_ACTIONS)\n",
    "\n",
    "    @staticmethod\n",
    "    def to_char(action):\n",
    "        assert action in Action.ALL_ACTIONS\n",
    "        return Action.ACTION_TO_CHAR[action]\n",
    "\n",
    "    @staticmethod\n",
    "    def joint_action_to_char(joint_action):\n",
    "        assert all([a in Action.ALL_ACTIONS for a in joint_action])\n",
    "        return tuple(Action.to_char(a) for a in joint_action)\n"
   ]
  },
  {
   "cell_type": "code",
   "execution_count": 5,
   "metadata": {},
   "outputs": [],
   "source": [
    "action_list = [Action.INTERACT,Action.STAY,Action.INDEX_TO_ACTION[0],Action.INDEX_TO_ACTION[1],Action.INDEX_TO_ACTION[2],Action.INDEX_TO_ACTION[3]]"
   ]
  },
  {
   "cell_type": "code",
   "execution_count": 55,
   "metadata": {},
   "outputs": [
    {
     "data": {
      "text/plain": [
       "(0, -1)"
      ]
     },
     "execution_count": 55,
     "metadata": {},
     "output_type": "execute_result"
    }
   ],
   "source": [
    "Action.INDEX_TO_ACTION[0]"
   ]
  },
  {
   "cell_type": "code",
   "execution_count": 9,
   "metadata": {},
   "outputs": [
    {
     "data": {
      "text/plain": [
       "(5, 4, 26)"
      ]
     },
     "execution_count": 9,
     "metadata": {},
     "output_type": "execute_result"
    }
   ],
   "source": [
    "observation.shape"
   ]
  },
  {
   "cell_type": "code",
   "execution_count": 23,
   "metadata": {},
   "outputs": [
    {
     "data": {
      "text/plain": [
       "array([[0, 0, 0, 0],\n",
       "       [0, 0, 1, 0],\n",
       "       [0, 0, 0, 0],\n",
       "       [0, 0, 0, 0],\n",
       "       [0, 0, 0, 0]])"
      ]
     },
     "execution_count": 23,
     "metadata": {},
     "output_type": "execute_result"
    }
   ],
   "source": [
    "observation[...,2]"
   ]
  },
  {
   "cell_type": "code",
   "execution_count": 28,
   "metadata": {},
   "outputs": [
    {
     "data": {
      "text/plain": [
       "'WEST'"
      ]
     },
     "execution_count": 28,
     "metadata": {},
     "output_type": "execute_result"
    }
   ],
   "source": [
    "import numpy as np\n",
    "agent = 0\n",
    "for i in range(4):\n",
    "    if agent == 0:\n",
    "        offset = 0\n",
    "    else:\n",
    "        offset = 5\n",
    "    if np.max(observation[...,agent+offset]) == 1:\n",
    "              facing = i\n",
    "DIRECTION_TO_NAME[INDEX_TO_DIRECTION[i]]"
   ]
  },
  {
   "cell_type": "code",
   "execution_count": 6,
   "metadata": {},
   "outputs": [],
   "source": [
    "import anthropic\n",
    "import os\n",
    "\n",
    "os.environ[\"ANTHROPIC_API_KEY\"] = \"\"\n",
    "\n",
    "client = anthropic.Anthropic()"
   ]
  },
  {
   "cell_type": "code",
   "execution_count": 8,
   "metadata": {},
   "outputs": [
    {
     "name": "stdout",
     "output_type": "stream",
     "text": [
      "403\n"
     ]
    }
   ],
   "source": [
    "token_count = client.count_tokens(\"The scene is described by grid: Grid = [['X', 'X', 'P', 'X', 'X'], ['O', ' ', ' ', ' ', 'O'], ['X', ' ', ' ', ' ', 'X'], ['X', 'D', 'X', 'S', 'X']]. \\\n",
    "Where X represents countertop, \\\n",
    "P represents a pot, O represents an onion, D represents plates and S represents serving counter. ' ' represents an empty space. All of the items are on a countertop. \\\n",
    "The scene is 4 rows tall and 5 columns wide. \\\n",
    "Top row: Countertop on the left and right sides, a pot in the center. Second row: Onions on both ends , empty space in the middle three positions. Third row: \\\n",
    "Countertop on both ends, empty space in the middle three positions. Bottom row:\tCountertop on the left, right, and in the center, plates on the left side of the center, \\\n",
    "serving counter on the right side of the center \\\n",
    "You are chef. Your aim is to serve cooked soup to the serving counter. \\\n",
    "To cook a soup, you first need to put 3 onions inside the pot, \\\n",
    "wait for it to cook for 20 time steps, serve it on a plate and deliver it to the serving counter. You can only do one action at a time. Each movement corresponds to moving a square left, right, top or down. \\\n",
    "You have a partner with the same goal as you. \\\n",
    "Your position is describe by a grid. For example: Grid = [[0, 0, 0, 0], \\\n",
    "[0, 0, 1, 0], \\\n",
    "[0, 0, 0, 0], \\\n",
    "[0, 0, 0, 0], \\\n",
    "[0, 0, 0, 0]]. \\\n",
    "Where '1' represents your current location. \\\n",
    "Output your final answer after your reasoning after the tag <action> with only the following options: Move left, Move right, Move up, Move down, Interact, Do nothing.\")\n",
    "print(token_count)"
   ]
  },
  {
   "cell_type": "code",
   "execution_count": 10,
   "metadata": {},
   "outputs": [
    {
     "ename": "SyntaxError",
     "evalue": "positional argument follows keyword argument (3695904659.py, line 45)",
     "output_type": "error",
     "traceback": [
      "\u001b[0;36m  File \u001b[0;32m\"/tmp/ipykernel_136333/3695904659.py\"\u001b[0;36m, line \u001b[0;32m45\u001b[0m\n\u001b[0;31m    [\u001b[0m\n\u001b[0m     ^\u001b[0m\n\u001b[0;31mSyntaxError\u001b[0m\u001b[0;31m:\u001b[0m positional argument follows keyword argument\n"
     ]
    }
   ],
   "source": [
    "message = client.messages.create(\n",
    "    model=\"claude-3-5-sonnet-20240620\",\n",
    "    # model = \"claude-3-haiku-20240307\",\n",
    "    max_tokens=1000,\n",
    "    temperature=0,\n",
    "#     system=\"The scene is described by grid: Grid = [['X', 'X', 'P', 'X', 'X'], ['O', ' ', ' ', ' ', 'O'], ['X', ' ', ' ', ' ', 'X'], ['X', 'D', 'X', 'S', 'X']]. \\\n",
    "# Where X represents countertop, \\\n",
    "# P represents a pot, O represents an onion, D represents plates and S represents serving counter. ' ' represents an empty space. All of the items are on a countertop. \\\n",
    "# The scene is 4 rows tall and 5 columns wide. \\\n",
    "# Top row: Countertop on the left and right sides, a pot in the center. Second row: Onions on both ends , empty space in the middle three positions. Third row: \\\n",
    "# Countertop on both ends, empty space in the middle three positions. Bottom row:\tCountertop on the left, right, and in the center, plates on the left side of the center, \\\n",
    "# serving counter on the right side of the center \\\n",
    "# You are chef. Your aim is to serve cooked soup to the serving counter. \\\n",
    "# To cook a soup, you first need to put 3 onions inside the pot, \\\n",
    "# wait for it to cook for 20 time steps, serve it on a plate and deliver it to the serving counter. You can only do one action at a time. Each movement corresponds to moving a square left, right, top or down. \\\n",
    "# You have a partner with the same goal as you. \\\n",
    "# Your position is describe by a grid. For example: Grid = [[0, 0, 0, 0], \\\n",
    "# [0, 0, 1, 0], \\\n",
    "# [0, 0, 0, 0], \\\n",
    "# [0, 0, 0, 0], \\\n",
    "# [0, 0, 0, 0]]. \\\n",
    "# Where '1' represents your current location. \\\n",
    "# Output your final answer after your reasoning after the tag <action> with only the following options: Move left, Move right, Move up, Move down, Interact, Do nothing.\",\n",
    "    system = \"The scene is 4 rows tall and 5 columns wide.\\nTop row:\\n\\nCountertop on the left and right sides\\nA pot in the center\\n\\nSecond row:\\n\\nOnions on both \\\n",
    "ends\\nEmpty space in the middle three positions\\n\\nThird row:\\n\\nCountertop on both ends\\nEmpty space in the middle three positions\\n\\nBottom row:\\n\\nCountertop on the left, \\\n",
    "right, and in the center\\nPlates on the left side of the center\\nServing counter on the right side of the center\\n\\nYour aim is to serve cooked soup to the serving counter. \\\n",
    "To cook a soup, you first need to put 3 onions inside the pot, wait for it to cook for 20 time steps, serve it on a plate and deliver it to the serving counter. \\\n",
    "Assuming you can only do one action at a time.\\n\\nYou have a partner who has the same goal as you.\\n\\nOutput your final answer with a tag <action> after your reasoning with \\\n",
    "only the following options: Move left, Move right, Move up, Move down, Interact, Do nothing\"\n",
    "    messages=[\n",
    "    {\n",
    "        \"role\": \"user\",\n",
    "        \"content\": [\n",
    "            {\n",
    "                \"type\": \"text\",\n",
    "                \"text\": \"Your current position: [[0, 0, 0, 0], \\\n",
    "[0, 0, 1, 0], \\\n",
    "[0, 0, 0, 0], \\\n",
    "[0, 0, 0, 0], \\\n",
    "[0, 0, 0, 0]]. \\\n",
    "Your current partner's postion: [[0, 0, 0, 0], \\\n",
    "[0, 0, 0, 0], \\\n",
    "[0, 0, 0, 0], \\\n",
    "[0, 1, 0, 0], \\\n",
    "[0, 0, 0, 0]]. \\\n",
    "What is your next step?\"\n",
    "            }\n",
    "        ]\n",
    "    }\n",
    "]\n",
    ")\n",
    "print(message.content)"
   ]
  },
  {
   "cell_type": "code",
   "execution_count": 7,
   "metadata": {},
   "outputs": [
    {
     "name": "stdout",
     "output_type": "stream",
     "text": [
      "Let's analyze the situation:\n",
      "\n",
      "1. My current position is in the second row, third column.\n",
      "2. My partner is in the fourth row, second column.\n",
      "3. To cook soup, we need to gather 3 onions and put them in the pot.\n",
      "4. The onions are located in the second row, at the first and last columns.\n",
      "5. The pot is in the first row, third column.\n",
      "\n",
      "Given my current position, the most efficient next step would be to move towards the nearest onion. The closest onion is on the right side of the grid.\n",
      "\n",
      "Therefore, my next action should be:\n",
      "\n",
      "<action>Move right</action>\n",
      "\n",
      "This will position me next to the onion on the right side, allowing me to interact with it in the next turn.\n"
     ]
    }
   ],
   "source": [
    "print(message.content[0].text)"
   ]
  },
  {
   "cell_type": "code",
   "execution_count": 110,
   "metadata": {},
   "outputs": [],
   "source": [
    "from tqdm import trange, tqdm\n",
    "import concurrent.futures\n",
    "import time\n",
    "\n",
    "def process_item(m):\n",
    "    message = client.messages.create(\n",
    "        model=\"claude-3-5-sonnet-20240620\",\n",
    "        # model=\"claude-3-haiku-20240307\",\n",
    "        max_tokens=1000,\n",
    "        temperature=0,\n",
    "#         system=\"The scene is described by grid: Grid = [['X', 'X', 'P', 'X', 'X']\\n['O', ' ', ' ', ' ', 'O']\\n['X', ' ', ' ', ' ', 'X']\\n['X', 'D', 'X', 'S', 'X']]. \\\n",
    "# Where X represents countertop, \\\n",
    "# P represents a pot, O represents an onion, D represents plates and S represents serving counter. ' ' represents an empty space. All of the items are on a countertop. \\\n",
    "# The scene is 4 rows tall and 5 columns wide. \\\n",
    "# Top row: Countertop on the whole row, with a pot on the countertop in the center. Second row: Countertop on boths, with Onions on top , empty space in the middle three positions. Third row: \\\n",
    "# Countertop on both ends, empty space in the middle three positions. Bottom row:\tCountertop on the whole row, with plates on the counter, the left side of the center, \\\n",
    "# serving counter on the right side of the center \\\n",
    "# You are chef. Your aim is to serve cooked soup to the serving counter. \\\n",
    "# To cook a soup, you first need to put 3 onions inside the pot, \\\n",
    "# wait for it to cook for 20 time steps, serve it on a plate and deliver it to the serving counter. You can only do one action at a time. \\\n",
    "# You have to face the item to interact with them. Moving in a direction will force your character to face the same direction. \\\n",
    "# Each movement corresponds to moving a square left, right, top or down. \\\n",
    "# You have a partner with the same goal as you. \\\n",
    "# Your position is describe by a grid. For example: Grid = [[0 0 0 0 0]\\n [0 0 0 0 0]\\n [0 1 0 0 0]\\n [0 0 0 0 0]] \\\n",
    "# Where '1' represents your current location. \\\n",
    "# Output your final answer after your reasoning after the tag <action> with only the following options: Move left, Move right, Move up, Move down, Interact, Do nothing.\",\n",
    "        system = \"The scene is 4 rows tall and 5 columns wide.\\nTop row:\\n\\nCountertop on the left and right sides\\nA pot in the center\\n\\nSecond row:\\n\\nOnions on both \\\n",
    "ends\\nEmpty space in the middle three positions\\n\\nThird row:\\n\\nCountertop on both ends\\nEmpty space in the middle three positions\\n\\nBottom row:\\n\\nCountertop on the left, \\\n",
    "right, and in the center\\nPlates on the left side of the center\\nServing counter on the right side of the center\\n\\nYour aim is to serve cooked soup to the serving counter. \\\n",
    "To cook a soup, you first need to put 3 onions inside the pot, wait for it to cook for 20 time steps, serve it on a plate and deliver it to the serving counter. \\\n",
    "Assuming you can only do one action at a time.\\n\\nYou have a partner who has the same goal as you.\\n\\nOutput your final answer with a tag <action> after your reasoning with \\\n",
    "only the following options: Move left, Move right, Move up, Move down, Interact, Do nothing\",\n",
    "        messages=m\n",
    "    )\n",
    "    return message.content\n",
    "\n",
    "def parallel_process_with_process_pool(messages, num_workers=50):\n",
    "    results = []\n",
    "    with concurrent.futures.ProcessPoolExecutor(max_workers=num_workers) as executor:\n",
    "        future_to_item = {executor.submit(process_item, m): m for m in messages}\n",
    "        for future in tqdm(concurrent.futures.as_completed(future_to_item), total=len(future_to_item), desc=\"Processing items\"):\n",
    "        # for future in concurrent.futures.as_completed(future_to_item):\n",
    "            item = future_to_item[future]\n",
    "            try:\n",
    "                result = future.result()\n",
    "                if result is not None:\n",
    "                    results.append(result)\n",
    "            except Exception as e:\n",
    "                # pass\n",
    "                print(f'Item {item} generated an exception: {e}')\n",
    "    return results\n"
   ]
  },
  {
   "cell_type": "code",
   "execution_count": 4,
   "metadata": {},
   "outputs": [
    {
     "ename": "SyntaxError",
     "evalue": "unexpected EOF while parsing (141587846.py, line 39)",
     "output_type": "error",
     "traceback": [
      "\u001b[0;36m  File \u001b[0;32m\"/tmp/ipykernel_136333/141587846.py\"\u001b[0;36m, line \u001b[0;32m39\u001b[0m\n\u001b[0;31m    \u001b[0m\n\u001b[0m    ^\u001b[0m\n\u001b[0;31mSyntaxError\u001b[0m\u001b[0;31m:\u001b[0m unexpected EOF while parsing\n"
     ]
    }
   ],
   "source": [
    "def gabm_action(obs):\n",
    "    message = client.messages.create(\n",
    "        model=\"claude-3-5-sonnet-20240620\",\n",
    "        max_tokens=1000,\n",
    "        temperature=0,\n",
    "        system=\"The scene is described by grid: Grid = [['X', 'X', 'P', 'X', 'X'], ['O', ' ', ' ', ' ', 'O'], ['X', ' ', ' ', ' ', 'X'], ['X', 'D', 'X', 'S', 'X']]. \\\n",
    "    Where X represents countertop, \\\n",
    "    P represents a pot, O represents an onion, D represents plates and S represents serving counter. ' ' represents an empty space. All of the items are on a countertop. \\\n",
    "    The scene is 4 rows tall and 5 columns wide. \\\n",
    "    Top row: Countertop on the left and right sides, a pot in the center. Second row: Onions on both ends , empty space in the middle three positions. Third row: \\\n",
    "    Countertop on both ends, empty space in the middle three positions. Bottom row:\tCountertop on the left, right, and in the center, plates on the left side of the center, \\\n",
    "    serving counter on the right side of the center \\\n",
    "    You are chef. Your aim is to serve cooked soup to the serving counter. \\\n",
    "    To cook a soup, you first need to put 3 onions inside the pot, \\\n",
    "    wait for it to cook for 20 time steps, serve it on a plate and deliver it to the serving counter. You can only do one action at a time. Each movement corresponds to moving a square left, right, top or down. \\\n",
    "    You have a partner with the same goal as you. \\\n",
    "    Your position is describe by a grid. For example: Grid = [[0, 0, 0, 0]\\n \\\n",
    "    [0, 0, 1, 0]\\n \\\n",
    "    [0, 0, 0, 0]\\n \\\n",
    "    [0, 0, 0, 0]\\n \\\n",
    "    [0, 0, 0, 0]]\\n \\\n",
    "    Where '1' represents your current location. \\\n",
    "    Output your final answer after your reasoning after the tag <action> with only the following options: Move left, Move right, Move up, Move down, Interact, Do nothing.\",\n",
    "        messages=[\n",
    "        {\n",
    "            \"role\": \"user\",\n",
    "            \"content\": [\n",
    "                {\n",
    "                    \"type\": \"text\",\n",
    "                    \"text\": \"Your current position: {}. Your current partner's postion: {}.  What is your next step?\".format(obs[...,0], obs[...,1])\n",
    "                }\n",
    "            ]\n",
    "        }\n",
    "    ]\n",
    "    )\n",
    "    action_text = message.content[0].text.split(\"<action>\")[-1].split(\"</action>\")[0]\n",
    "\n",
    "    if action_text == \"Move left, Move right, Move up, Move down, Interact, Do nothing.\"\n",
    "        "
   ]
  },
  {
   "cell_type": "code",
   "execution_count": 24,
   "metadata": {},
   "outputs": [],
   "source": [
    "import overcooked\n",
    "import numpy as np\n",
    "import os"
   ]
  },
  {
   "cell_type": "code",
   "execution_count": 31,
   "metadata": {},
   "outputs": [],
   "source": [
    "from overcooked_ai_py.visualization.state_visualizer import StateVisualizer"
   ]
  },
  {
   "cell_type": "code",
   "execution_count": 14,
   "metadata": {},
   "outputs": [
    {
     "data": {
      "text/plain": [
       "<overcooked_ai_py.mdp.overcooked_mdp.OvercookedState at 0x7f725fdfaf10>"
      ]
     },
     "execution_count": 14,
     "metadata": {},
     "output_type": "execute_result"
    }
   ],
   "source": [
    "observation, episode_return, episode_length = overcooked_env.reset(), 0, 0\n",
    "observation"
   ]
  },
  {
   "cell_type": "code",
   "execution_count": 32,
   "metadata": {},
   "outputs": [],
   "source": [
    "GRID= [['X', 'X', 'P', 'X', 'X'], ['O', ' ', ' ', ' ', 'O'], ['X', ' ', ' ', ' ', 'X'], ['X', 'D', 'X', 'S', 'X']]"
   ]
  },
  {
   "cell_type": "code",
   "execution_count": 7,
   "metadata": {},
   "outputs": [],
   "source": [
    "def get_action(messages):   \n",
    "\n",
    "    prompt = \n",
    "\n",
    "\n",
    "    message={\n",
    "            \"role\": \"user\",\n",
    "            \"content\": [\n",
    "                {\n",
    "                    \"type\": \"text\",\n",
    "                    \"text\": prompt\n",
    "                }\n",
    "                ]\n",
    "            }\n",
    "\n",
    "    messages.append(message)\n",
    "\n",
    "    answers = parallel_process_with_process_pool(messages, num_workers=2)\n",
    "\n",
    "    action = [0,0]\n",
    "    for agent in range(2):\n",
    "        reply = answers[agent][0].text\n",
    "        action_text = reply.split(\"<action>\")[-1].split(\"</action>\")[0]\n",
    "        if action_text == \"Move left\":\n",
    "            action[agent] = action_list[5]\n",
    "        elif action_text == \"Move right\":\n",
    "            action[agent] = action_list[4]\n",
    "        elif action_text == \"Move up\":\n",
    "            action[agent] = action_list[2]\n",
    "        elif action_text == \"Move down\":\n",
    "            action[agent] = action_list[3]\n",
    "        elif action_text == \"Interact\":\n",
    "            action[agent] = action_list[0]\n",
    "        else:\n",
    "            action[agent] = action_list[1]\n",
    "    \n",
    "    return answers, action, messages"
   ]
  },
  {
   "cell_type": "code",
   "execution_count": 111,
   "metadata": {},
   "outputs": [
    {
     "name": "stdout",
     "output_type": "stream",
     "text": [
      "<overcooked_ai_py.mdp.overcooked_mdp.OvercookedGridworld object at 0x7f72bb8e3a50>\n"
     ]
    },
    {
     "name": "stderr",
     "output_type": "stream",
     "text": [
      "Processing items: 100%|██████████| 2/2 [00:06<00:00,  3.17s/it]\n",
      " 10%|█         | 1/10 [00:06<00:57,  6.38s/it]"
     ]
    },
    {
     "name": "stdout",
     "output_type": "stream",
     "text": [
      "Computing MotionPlanner\n"
     ]
    },
    {
     "name": "stderr",
     "output_type": "stream",
     "text": [
      "Processing items: 100%|██████████| 2/2 [00:05<00:00,  2.88s/it]\n",
      "Processing items: 100%|██████████| 2/2 [00:04<00:00,  2.50s/it]\n",
      "Processing items: 100%|██████████| 2/2 [00:05<00:00,  2.91s/it]\n",
      "Processing items: 100%|██████████| 2/2 [00:04<00:00,  2.37s/it]\n",
      "Processing items: 100%|██████████| 2/2 [00:05<00:00,  2.52s/it]\n",
      "Processing items: 100%|██████████| 2/2 [00:05<00:00,  2.75s/it]\n",
      "Processing items: 100%|██████████| 2/2 [00:04<00:00,  2.14s/it]\n",
      "Processing items: 100%|██████████| 2/2 [00:06<00:00,  3.15s/it]\n",
      "Processing items: 100%|██████████| 2/2 [00:04<00:00,  2.39s/it]\n",
      "100%|██████████| 10/10 [00:53<00:00,  5.38s/it]\n"
     ]
    }
   ],
   "source": [
    "import time\n",
    "\n",
    "start = time.time()\n",
    "\n",
    "overcooked_env = overcooked.Overcooked(\"CrampedRoom\")\n",
    "observation, episode_return, episode_length = overcooked_env.reset(), 0, 0\n",
    "\n",
    "sum_return = 0\n",
    "\n",
    "hist = []\n",
    "\n",
    "for t in tqdm(range(10)):\n",
    "\n",
    "    log = {}\n",
    "    observation_array = overcooked_env.mdp.lossless_state_encoding(observation, debug=False)[0]\n",
    "    obs = np.array([observation_array]*2)\n",
    "\n",
    "    facing_dir = [0,0]\n",
    "    for agent in range(2):\n",
    "        for i in range(4):\n",
    "            if agent == 0:\n",
    "                offset = 0\n",
    "            else:\n",
    "                offset = 5\n",
    "            if np.max(observation_array[...,agent+offset+i]) == 1:\n",
    "                    facing = i\n",
    "        facing_dir[agent] = DIRECTION_TO_NAME[INDEX_TO_DIRECTION[facing]]\n",
    "    facing_dir = np.array([facing_dir]*2)\n",
    "    prompts = [0, 1]\n",
    "\n",
    "    try:\n",
    "        answers, action = get_action()   \n",
    "    except:\n",
    "        time.sleep(60)\n",
    "        answers, action = get_action()\n",
    "    \n",
    "    log['p1'] = answers[0][0].text\n",
    "    log['p2'] = answers[1][0].text \n",
    "\n",
    "    observation_new, reward, done, _ = overcooked_env.step(action)\n",
    "    sum_return += reward\n",
    "\n",
    "    img_directory_path = \"temp\"\n",
    "    img_name = \"frame_\" + str(t) + \".jpg\"\n",
    "    img_path = os.path.join(img_directory_path, img_name)\n",
    "    hud_data = StateVisualizer.default_hud_data(observation)\n",
    "    StateVisualizer().display_rendered_state(state=observation, grid=GRID, hud_data=hud_data, img_path=img_path, ipython_display=False, window_display=False)\n",
    "        \n",
    "    hist.append(log)\n",
    "\n",
    "    observation = observation_new\n",
    "\n",
    "end = time.time()"
   ]
  },
  {
   "cell_type": "code",
   "execution_count": 112,
   "metadata": {},
   "outputs": [],
   "source": [
    "import json\n",
    "\n",
    "with open(\"temp.json\", 'w') as f:\n",
    "    json.dump(hist, f)"
   ]
  },
  {
   "cell_type": "code",
   "execution_count": 104,
   "metadata": {},
   "outputs": [],
   "source": [
    "observation, episode_return, episode_length = overcooked_env.reset(), 0, 0\n",
    "observation_array = overcooked_env.mdp.lossless_state_encoding(observation, debug=False)[0]"
   ]
  },
  {
   "cell_type": "code",
   "execution_count": 78,
   "metadata": {},
   "outputs": [
    {
     "name": "stdout",
     "output_type": "stream",
     "text": [
      "0\n",
      "0\n"
     ]
    },
    {
     "data": {
      "text/plain": [
       "array([['NORTH', 'NORTH'],\n",
       "       ['NORTH', 'NORTH']], dtype='<U5')"
      ]
     },
     "execution_count": 78,
     "metadata": {},
     "output_type": "execute_result"
    }
   ],
   "source": [
    "facing_dir = [0,0]\n",
    "for agent in range(2):\n",
    "    for i in range(4):\n",
    "        if agent == 0:\n",
    "            offset = 2\n",
    "        else:\n",
    "            offset = 5\n",
    "        if np.max(observation_array[...,agent+offset+i]) == 1:\n",
    "                facing = i\n",
    "                print(i)\n",
    "    facing_dir[agent] = DIRECTION_TO_NAME[INDEX_TO_DIRECTION[facing]]\n",
    "facing_dir = np.array([facing_dir]*2)\n",
    "facing_dir"
   ]
  },
  {
   "cell_type": "code",
   "execution_count": 109,
   "metadata": {},
   "outputs": [
    {
     "data": {
      "text/plain": [
       "'[[0 0 0 0 0]\\n [0 0 0 0 0]\\n [0 1 0 0 0]\\n [0 0 0 0 0]]'"
      ]
     },
     "execution_count": 109,
     "metadata": {},
     "output_type": "execute_result"
    }
   ],
   "source": [
    "s = \"{}\".format(observation_array[...,0].transpose())\n",
    "s"
   ]
  },
  {
   "cell_type": "code",
   "execution_count": 75,
   "metadata": {},
   "outputs": [
    {
     "data": {
      "image/jpeg": "[encoded data removed]",
      "text/plain": [
       "<IPython.core.display.Image object>"
      ]
     },
     "metadata": {},
     "output_type": "display_data"
    },
    {
     "data": {
      "text/plain": [
       "'temp/frame_9.jpg'"
      ]
     },
     "execution_count": 75,
     "metadata": {},
     "output_type": "execute_result"
    }
   ],
   "source": [
    "hud_data = StateVisualizer.default_hud_data(observation)\n",
    "StateVisualizer().display_rendered_state(state=observation, grid=GRID, hud_data=hud_data, img_path=img_path, ipython_display=True, window_display=False)"
   ]
  },
  {
   "cell_type": "code",
   "execution_count": 85,
   "metadata": {},
   "outputs": [
    {
     "data": {
      "text/plain": [
       "array([[0, 0, 0, 0, 0],\n",
       "       [0, 0, 0, 1, 0],\n",
       "       [0, 0, 0, 0, 0],\n",
       "       [0, 0, 0, 0, 0]])"
      ]
     },
     "execution_count": 85,
     "metadata": {},
     "output_type": "execute_result"
    }
   ],
   "source": [
    "observation_array[...,1].transpose()"
   ]
  }
 ],
 "metadata": {
  "kernelspec": {
   "display_name": "cmbrl",
   "language": "python",
   "name": "python3"
  },
  "language_info": {
   "codemirror_mode": {
    "name": "ipython",
    "version": 3
   },
   "file_extension": ".py",
   "mimetype": "text/x-python",
   "name": "python",
   "nbconvert_exporter": "python",
   "pygments_lexer": "ipython3",
   "version": "3.7.16"
  }
 },
 "nbformat": 4,
 "nbformat_minor": 2
}
